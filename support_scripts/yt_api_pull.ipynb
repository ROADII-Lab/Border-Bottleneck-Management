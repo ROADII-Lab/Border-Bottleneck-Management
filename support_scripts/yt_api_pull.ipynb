{
 "cells": [
  {
   "cell_type": "code",
   "execution_count": 1,
   "id": "d9422415",
   "metadata": {},
   "outputs": [],
   "source": [
    "import os\n",
    "import time\n",
    "\n",
    "import cv2\n",
    "import yt_dlp"
   ]
  },
  {
   "cell_type": "code",
   "execution_count": 2,
   "id": "b53a2b51",
   "metadata": {},
   "outputs": [],
   "source": [
    "def process_video_parallel(url, skip_frames, process_number):\n",
    "    print(\"in this function\")\n",
    "    cap = cv2.VideoCapture(url)\n",
    "    num_processes = os.cpu_count()\n",
    "    frames_per_process = int(cap.get(cv2.CAP_PROP_FRAME_COUNT)) // num_processes\n",
    "    cap.set(cv2.CAP_PROP_POS_FRAMES, frames_per_process * process_number)\n",
    "    x = 0\n",
    "    count = 0\n",
    "    while x < 10 and count < frames_per_process:\n",
    "        ret, frame = cap.read()\n",
    "        print(\"read it\")\n",
    "        if not ret:\n",
    "            break\n",
    "        cv2.imshow('video', frame)\n",
    "        if cv2.waitKey(1) & 0xFF == ord('q'):\n",
    "            break\n",
    "        filename =r'c:\\Users\\Nineveh.OConnell\\OneDrive - DOT OST\\Documents\\code\\Border-Bottleneck-Management\\support_scripts\\captured_pngs\\shot'+str(x)+'.png'\n",
    "        x += 1\n",
    "        cv2.imwrite(filename.format(count), frame)\n",
    "        count += skip_frames  # Skip 300 frames i.e. 10 seconds for 30 fps\n",
    "        cap.set(1, count)\n",
    "    cap.release()"
   ]
  },
  {
   "cell_type": "code",
   "execution_count": 3,
   "id": "39fcb0fd",
   "metadata": {},
   "outputs": [],
   "source": [
    "video_url = \"https://www.youtube.com/watch?v=0Pg3S6s76IE\"  # The Youtube URL\n"
   ]
  },
  {
   "cell_type": "code",
   "execution_count": 4,
   "id": "7a64b766",
   "metadata": {},
   "outputs": [],
   "source": [
    "def get_stream_url(youtube_url):\n",
    "    ydl_opts = {\n",
    "        'quiet': True,\n",
    "        'skip_download': True,\n",
    "        'no_warnings': True,\n",
    "        'force_generic_extractor': False,\n",
    "        'format': 'best[ext=mp4][protocol^=http]/best'\n",
    "    }\n",
    "    with yt_dlp.YoutubeDL(ydl_opts) as ydl:\n",
    "        info = ydl.extract_info(youtube_url, download=False)\n",
    "        formats = info.get('formats', [info])\n",
    "        # prefer video-only best mp4 OR best overall\n",
    "        for f in reversed(formats):\n",
    "            if f.get('vcodec', '') != 'none' and f.get('acodec', '') == 'none' and 'url' in f:\n",
    "                return f['url']\n",
    "        # fallback: best available format\n",
    "        return formats[-1]['url']"
   ]
  },
  {
   "cell_type": "code",
   "execution_count": null,
   "id": "43f5c9f6",
   "metadata": {},
   "outputs": [
    {
     "name": "stdout",
     "output_type": "stream",
     "text": [
      "Stream URL: https://manifest.googlevideo.com/api/manifest/hls_playlist/expire/1747781023/ei/P7EsaNSnIdinlu8P0batoAc/ip/152.122.255.5/id/0Pg3S6s76IE.2/itag/270/source/yt_live_broadcast/requiressl/yes/ratebypass/yes/live/1/sgovp/gir%3Dyes%3Bitag%3D137/rqh/1/hls_chunk_host/rr1---sn-vgqsknsk.googlevideo.com/xpc/EgVo2aDSNQ%3D%3D/playlist_duration/30/manifest_duration/30/bui/AecWEAbOlFCeVGpUtz0WvrqbMFM0gnmSnEOhbRkTMQiL0EJBxjM_YaXFrFIGo-4yaxM79i1aZHgZuuus/spc/wk1kZoaLD20Otz60aVsDNnP0h2p6kIrZRTQ57qItA3NESQNF9ec/vprv/1/playlist_type/DVR/initcwndbps/5237500/met/1747759424,/mh/sg/mm/44/mn/sn-vgqsknsk/ms/lva/mv/m/mvi/1/pl/16/rms/lva,lva/dover/13/pacing/0/short_key/1/keepalive/yes/fexp/51466698/mt/1747759011/sparams/expire,ei,ip,id,itag,source,requiressl,ratebypass,live,sgovp,rqh,xpc,playlist_duration,manifest_duration,bui,spc,vprv,playlist_type/sig/AJfQdSswRQIgamXS6CHPmD6EG--Q3VJZRxBe9pibkcWpEZo_JTmbKNgCIQDnVyJYT7hECodJWT-osWZ2XuKXuQa_NQoGUPGe9KqHMg%3D%3D/lsparams/hls_chunk_host,initcwndbps,met,mh,mm,mn,ms,mv,mvi,pl,rms/lsig/ACuhMU0wRgIhAMdR7rnnK-4l9TKZtUEDAfnM85hrjfI8d2oJwN_-yznSAiEAuILLcKsJjBzJ8M9XCfaVgHYtzrL9dq_vf6D3KqQVlc8%3D/playlist/index.m3u8\n",
      "Saved frame 0\n",
      "Saved frame 1\n",
      "Saved frame 2\n"
     ]
    }
   ],
   "source": [
    "\n",
    "def capture_frames(stream_url, output_dir='frames', interval=5):\n",
    "    cap = cv2.VideoCapture(stream_url)\n",
    "    i = 0\n",
    "    while True:\n",
    "        ret, frame = cap.read()\n",
    "        if not ret:\n",
    "            print('Frame not available, waiting...')\n",
    "            time.sleep(1)\n",
    "            continue\n",
    "        # Save as PNG\n",
    "        filename =r'c:\\Users\\Nineveh.OConnell\\OneDrive - DOT OST\\Documents\\code\\Border-Bottleneck-Management\\support_scripts\\captured_pngs'\n",
    "        cv2.imwrite(f\"{filename}/frame_{i:05d}.png\", frame)\n",
    "        print(f\"Saved frame {i}\")\n",
    "        time.sleep(interval)\n",
    "        i += 1\n",
    "\n",
    "if __name__ == \"__main__\":\n",
    "    url = 'https://www.youtube.com/watch?v=0Pg3S6s76IE'  # Replace with your live URL\n",
    "    stream_url = get_stream_url(url)\n",
    "    print(\"Stream URL:\", stream_url)\n",
    "    capture_frames(stream_url)"
   ]
  }
 ],
 "metadata": {
  "kernelspec": {
   "display_name": "base",
   "language": "python",
   "name": "python3"
  },
  "language_info": {
   "codemirror_mode": {
    "name": "ipython",
    "version": 3
   },
   "file_extension": ".py",
   "mimetype": "text/x-python",
   "name": "python",
   "nbconvert_exporter": "python",
   "pygments_lexer": "ipython3",
   "version": "3.12.7"
  }
 },
 "nbformat": 4,
 "nbformat_minor": 5
}

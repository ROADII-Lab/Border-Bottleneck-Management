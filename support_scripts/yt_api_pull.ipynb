{
 "cells": [
  {
   "cell_type": "code",
   "execution_count": 14,
   "id": "d9422415",
   "metadata": {},
   "outputs": [
    {
     "name": "stdout",
     "output_type": "stream",
     "text": [
      "Creating new Ultralytics Settings v0.0.6 file  \n",
      "View Ultralytics Settings with 'yolo settings' or at 'C:\\Users\\Nineveh.OConnell\\AppData\\Roaming\\Ultralytics\\settings.json'\n",
      "Update Settings with 'yolo settings key=value', i.e. 'yolo settings runs_dir=path/to/dir'. For help see https://docs.ultralytics.com/quickstart/#ultralytics-settings.\n"
     ]
    }
   ],
   "source": [
    "import os\n",
    "import time\n",
    "from datetime import datetime\n",
    "\n",
    "import cv2\n",
    "import yt_dlp\n",
    "from ultralytics import YOLO\n",
    "from collections import defaultdict"
   ]
  },
  {
   "cell_type": "code",
   "execution_count": null,
   "id": "39fcb0fd",
   "metadata": {},
   "outputs": [],
   "source": [
    "video_url = \"https://www.youtube.com/watch?v=0Pg3S6s76IE\"  # Youtube URL northbound\n"
   ]
  },
  {
   "cell_type": "code",
   "execution_count": 12,
   "id": "7a64b766",
   "metadata": {},
   "outputs": [],
   "source": [
    "def get_stream_url(youtube_url):\n",
    "    ydl_opts = {\n",
    "        'quiet': True,\n",
    "        'skip_download': True,\n",
    "        'no_warnings': True,\n",
    "        'force_generic_extractor': False,\n",
    "        'format': 'best[ext=mp4][protocol^=http]/best'\n",
    "    }\n",
    "    with yt_dlp.YoutubeDL(ydl_opts) as ydl:\n",
    "        info = ydl.extract_info(youtube_url, download=False)\n",
    "        formats = info.get('formats', [info])\n",
    "        # prefer video-only best mp4 OR best overall\n",
    "        for f in reversed(formats):\n",
    "            if f.get('vcodec', '') != 'none' and f.get('acodec', '') == 'none' and 'url' in f:\n",
    "                return f['url']\n",
    "        # fallback: best available format\n",
    "        return formats[-1]['url']"
   ]
  },
  {
   "cell_type": "code",
   "execution_count": null,
   "id": "43f5c9f6",
   "metadata": {},
   "outputs": [
    {
     "name": "stdout",
     "output_type": "stream",
     "text": [
      "Stream URL: https://manifest.googlevideo.com/api/manifest/hls_playlist/expire/1748031771/ei/u4QwaKeVOvOc2_gPhvGh6AY/ip/152.122.255.5/id/0Pg3S6s76IE.2/itag/270/source/yt_live_broadcast/requiressl/yes/ratebypass/yes/live/1/sgovp/gir%3Dyes%3Bitag%3D137/rqh/1/hls_chunk_host/rr1---sn-vgqsknsk.googlevideo.com/xpc/EgVo2aDSNQ%3D%3D/playlist_duration/30/manifest_duration/30/bui/AecWEAYMQEOI-0AA4RLYwtzxEjM34S4SbaukYeOoAmUDJkXVpt2WHChS2upqHWRWySqhgVV0t1EP5qVx/spc/wk1kZp09UBMkIrOykp4A9gn2ejN-IKwTkaOvuPwxh9fklyhi3ao/vprv/1/playlist_type/DVR/initcwndbps/3947500/met/1748010172,/mh/sg/mm/44/mn/sn-vgqsknsk/ms/lva/mv/m/mvi/1/pl/16/rms/lva,lva/dover/13/pacing/0/short_key/1/keepalive/yes/mt/1748009807/sparams/expire,ei,ip,id,itag,source,requiressl,ratebypass,live,sgovp,rqh,xpc,playlist_duration,manifest_duration,bui,spc,vprv,playlist_type/sig/AJfQdSswRQIhANCGEnkqe--OpDCeh-gvfza2Dtj2bvFj0L7mmjtJMtYbAiA5K9PQquoyFInxFybA9TWiVj8negDsglAKCnI4kYxY8g%3D%3D/lsparams/hls_chunk_host,initcwndbps,met,mh,mm,mn,ms,mv,mvi,pl,rms/lsig/ACuhMU0wRgIhAIYyTqONYZWwKXpPu_8fIVuGGjRo3nVChHHU49jpqkg4AiEA48U5AQyKJLa77OyT2QKkR7WdfwCk0ShDvv1vs9C5dO8%3D/playlist/index.m3u8\n",
      "Saved frame 0\n",
      "Saved frame 1\n",
      "Saved frame 2\n",
      "Saved frame 3\n",
      "Saved frame 4\n",
      "Saved frame 5\n",
      "Saved frame 6\n",
      "Saved frame 7\n",
      "Saved frame 8\n",
      "Saved frame 9\n",
      "Saved frame 10\n",
      "Saved frame 11\n",
      "Saved frame 12\n",
      "Saved frame 13\n",
      "Saved frame 14\n",
      "Saved frame 15\n",
      "Saved frame 16\n",
      "Saved frame 17\n",
      "Saved frame 18\n",
      "Saved frame 19\n",
      "Saved frame 20\n",
      "Saved frame 21\n",
      "Saved frame 22\n",
      "Saved frame 23\n",
      "Saved frame 24\n",
      "Saved frame 25\n",
      "Saved frame 26\n",
      "Saved frame 27\n",
      "Saved frame 28\n",
      "Saved frame 29\n",
      "Saved frame 30\n",
      "Saved frame 31\n",
      "Saved frame 32\n",
      "Saved frame 33\n",
      "Saved frame 34\n",
      "Saved frame 35\n",
      "Saved frame 36\n",
      "Saved frame 37\n",
      "Saved frame 38\n",
      "Saved frame 39\n",
      "Saved frame 40\n",
      "Saved frame 41\n",
      "Saved frame 42\n",
      "Saved frame 43\n",
      "Saved frame 44\n",
      "Saved frame 45\n",
      "Saved frame 46\n",
      "Saved frame 47\n",
      "Saved frame 48\n",
      "Saved frame 49\n",
      "Saved frame 50\n",
      "Saved frame 51\n",
      "Saved frame 52\n",
      "Saved frame 53\n",
      "Saved frame 54\n",
      "Saved frame 55\n",
      "Saved frame 56\n",
      "Saved frame 57\n",
      "Saved frame 58\n",
      "Saved frame 59\n",
      "Saved frame 60\n",
      "Saved frame 61\n",
      "Saved frame 62\n",
      "Saved frame 63\n"
     ]
    },
    {
     "ename": "KeyboardInterrupt",
     "evalue": "",
     "output_type": "error",
     "traceback": [
      "\u001b[1;31m---------------------------------------------------------------------------\u001b[0m",
      "\u001b[1;31mKeyboardInterrupt\u001b[0m                         Traceback (most recent call last)",
      "Cell \u001b[1;32mIn[13], line 24\u001b[0m\n\u001b[0;32m     22\u001b[0m stream_url \u001b[38;5;241m=\u001b[39m get_stream_url(url)\n\u001b[0;32m     23\u001b[0m \u001b[38;5;28mprint\u001b[39m(\u001b[38;5;124m\"\u001b[39m\u001b[38;5;124mStream URL:\u001b[39m\u001b[38;5;124m\"\u001b[39m, stream_url)\n\u001b[1;32m---> 24\u001b[0m capture_frames(stream_url)\n",
      "Cell \u001b[1;32mIn[13], line 16\u001b[0m, in \u001b[0;36mcapture_frames\u001b[1;34m(stream_url, output_dir, interval)\u001b[0m\n\u001b[0;32m     14\u001b[0m cv2\u001b[38;5;241m.\u001b[39mimwrite(\u001b[38;5;124mf\u001b[39m\u001b[38;5;124m\"\u001b[39m\u001b[38;5;132;01m{\u001b[39;00mfilename\u001b[38;5;132;01m}\u001b[39;00m\u001b[38;5;124m/frame_\u001b[39m\u001b[38;5;132;01m{\u001b[39;00m\u001b[38;5;28mstr\u001b[39m(current_datetime)\u001b[38;5;132;01m}\u001b[39;00m\u001b[38;5;124m.png\u001b[39m\u001b[38;5;124m\"\u001b[39m, frame)\n\u001b[0;32m     15\u001b[0m \u001b[38;5;28mprint\u001b[39m(\u001b[38;5;124mf\u001b[39m\u001b[38;5;124m\"\u001b[39m\u001b[38;5;124mSaved frame \u001b[39m\u001b[38;5;132;01m{\u001b[39;00mi\u001b[38;5;132;01m}\u001b[39;00m\u001b[38;5;124m\"\u001b[39m)\n\u001b[1;32m---> 16\u001b[0m time\u001b[38;5;241m.\u001b[39msleep(interval)\n\u001b[0;32m     17\u001b[0m i \u001b[38;5;241m+\u001b[39m\u001b[38;5;241m=\u001b[39m \u001b[38;5;241m1\u001b[39m\n\u001b[0;32m     18\u001b[0m cap\u001b[38;5;241m.\u001b[39mset(\u001b[38;5;241m1\u001b[39m, \u001b[38;5;241m10\u001b[39m)\n",
      "\u001b[1;31mKeyboardInterrupt\u001b[0m: "
     ]
    }
   ],
   "source": [
    "\n",
    "def capture_frames(stream_url, output_dir='frames', interval=5):\n",
    "    cap = cv2.VideoCapture(stream_url)\n",
    "    i = 0\n",
    "    while True:\n",
    "        ret, frame = cap.read()\n",
    "        if not ret:\n",
    "            print('Frame not available, waiting...')\n",
    "            time.sleep(1)\n",
    "            continue\n",
    "        # prep timestamp for file name\n",
    "        current_datetime = datetime.now().strftime(\"%Y-%m-%d %H-%M-%S\")\n",
    "        # Save as PNG\n",
    "        filename =r'c:\\Users\\Nineveh.OConnell\\OneDrive - DOT OST\\Documents\\code\\Border-Bottleneck-Management\\support_scripts\\captured_pngs'\n",
    "        cv2.imwrite(f\"{filename}/frame_{str(current_datetime)}.png\", frame)\n",
    "        print(f\"Saved frame {i}\")\n",
    "        time.sleep(interval)\n",
    "        i += 1\n",
    "        cap.set(1, 10) # skip frames, 1 corresponds to the propid index, 10 skips 10 frames I believe\n",
    "\n",
    "if __name__ == \"__main__\":\n",
    "    url = 'https://www.youtube.com/watch?v=0Pg3S6s76IE'  # Replace with your live URL\n",
    "    stream_url = get_stream_url(url)\n",
    "    print(\"Stream URL:\", stream_url)\n",
    "    capture_frames(stream_url)"
   ]
  }
 ],
 "metadata": {
  "kernelspec": {
   "display_name": "base",
   "language": "python",
   "name": "python3"
  },
  "language_info": {
   "codemirror_mode": {
    "name": "ipython",
    "version": 3
   },
   "file_extension": ".py",
   "mimetype": "text/x-python",
   "name": "python",
   "nbconvert_exporter": "python",
   "pygments_lexer": "ipython3",
   "version": "3.12.7"
  }
 },
 "nbformat": 4,
 "nbformat_minor": 5
}
